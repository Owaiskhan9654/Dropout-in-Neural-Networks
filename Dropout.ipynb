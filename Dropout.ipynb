{
  "nbformat": 4,
  "nbformat_minor": 0,
  "metadata": {
    "colab": {
      "name": "Dropout.ipynb",
      "provenance": [],
      "authorship_tag": "ABX9TyPerLboe0AxHTlzsoyGFp4u",
      "include_colab_link": true
    },
    "kernelspec": {
      "name": "python3",
      "display_name": "Python 3"
    },
    "accelerator": "GPU"
  },
  "cells": [
    {
      "cell_type": "markdown",
      "metadata": {
        "id": "view-in-github",
        "colab_type": "text"
      },
      "source": [
        "<a href=\"https://colab.research.google.com/github/Owaiskhan9654/Dropout-in-Neural-Networks/blob/master/Dropout.ipynb\" target=\"_parent\"><img src=\"https://colab.research.google.com/assets/colab-badge.svg\" alt=\"Open In Colab\"/></a>"
      ]
    },
    {
      "cell_type": "markdown",
      "metadata": {
        "id": "4gn2LNzjWYFU",
        "colab_type": "text"
      },
      "source": [
        "I have been writing papers on Topic Dropout A way to avoid overfitting . I would Like to show that Presentation in My Internship Code Submission "
      ]
    },
    {
      "cell_type": "code",
      "metadata": {
        "id": "xoIkMeG1UWy9",
        "colab_type": "code",
        "colab": {}
      },
      "source": [
        "import tensorflow as tf"
      ],
      "execution_count": 0,
      "outputs": []
    },
    {
      "cell_type": "markdown",
      "metadata": {
        "id": "d-_6_pCVYkGZ",
        "colab_type": "text"
      },
      "source": [
        "Now selecting Data Set - Here In order to Show the benifit of this Dropout we have to use Deep Neural Networks \n",
        "So I am using Simple but will use large No of layers in it I will be using simple MNIST data set"
      ]
    },
    {
      "cell_type": "code",
      "metadata": {
        "id": "qXmDJ3ngYZ-K",
        "colab_type": "code",
        "colab": {}
      },
      "source": [
        "mnist = tf.keras.datasets.mnist\n",
        "(x_train,Y_train),(x_test,Y_test)=mnist.load_data()\n",
        "x_train,x_test = x_train / 255.0,x_test / 255.0"
      ],
      "execution_count": 0,
      "outputs": []
    },
    {
      "cell_type": "markdown",
      "metadata": {
        "id": "XpMe-t7X0QC4",
        "colab_type": "text"
      },
      "source": [
        "First I am going to add No dropout method in our model and find the acuraccy of my model"
      ]
    },
    {
      "cell_type": "code",
      "metadata": {
        "id": "ZDuvWcIjYnpV",
        "colab_type": "code",
        "colab": {}
      },
      "source": [
        "model1 = tf.keras.models.Sequential([\n",
        "                tf.keras.layers.Reshape((28,28,1),input_shape=(28,28))  ,\n",
        "                tf.keras.layers.Conv2D(filters=10,kernel_size=(3,3),data_format=\"channels_last\"),\n",
        "                tf.keras.layers.Flatten(),\n",
        "                tf.keras.layers.Dense(128,activation ='relu') ,\n",
        "                tf.keras.layers.Dense(128,activation ='relu') ,\n",
        "                tf.keras.layers.Dense(128,activation ='relu') ,\n",
        "                tf.keras.layers.Dense(128,activation ='relu') ,\n",
        "                tf.keras.layers.Dense(128,activation ='relu') ,\n",
        "                tf.keras.layers.Dense(128,activation ='relu') ,\n",
        "                tf.keras.layers.Dense(128,activation ='relu') ,\n",
        "                tf.keras.layers.Dense(128,activation ='relu') ,\n",
        "                tf.keras.layers.Dense(10,activation='softmax') ])"
      ],
      "execution_count": 0,
      "outputs": []
    },
    {
      "cell_type": "code",
      "metadata": {
        "id": "i4K6QLil0nDx",
        "colab_type": "code",
        "colab": {}
      },
      "source": [
        "optimizer=tf.keras.optimizers.Adam(learning_rate= 0.1)\n",
        "model1.compile(optimizer=optimizer,\n",
        "              loss='sparse_categorical_crossentropy',\n",
        "              metrics=['accuracy'])"
      ],
      "execution_count": 0,
      "outputs": []
    },
    {
      "cell_type": "code",
      "metadata": {
        "id": "aM-pVYCMcfzS",
        "colab_type": "code",
        "colab": {
          "base_uri": "https://localhost:8080/",
          "height": 374
        },
        "outputId": "49a676c3-bc47-4113-a9c6-90377fe27ded"
      },
      "source": [
        "model1.fit(x_test,Y_test,epochs=10)"
      ],
      "execution_count": 49,
      "outputs": [
        {
          "output_type": "stream",
          "text": [
            "Epoch 1/10\n",
            "313/313 [==============================] - 2s 5ms/step - loss: 2.3147 - accuracy: 0.1001\n",
            "Epoch 2/10\n",
            "313/313 [==============================] - 2s 5ms/step - loss: 2.3120 - accuracy: 0.1024\n",
            "Epoch 3/10\n",
            "313/313 [==============================] - 2s 5ms/step - loss: 2.3141 - accuracy: 0.1086\n",
            "Epoch 4/10\n",
            "313/313 [==============================] - 2s 5ms/step - loss: 2.3153 - accuracy: 0.1085\n",
            "Epoch 5/10\n",
            "313/313 [==============================] - 2s 5ms/step - loss: 2.3119 - accuracy: 0.1028\n",
            "Epoch 6/10\n",
            "313/313 [==============================] - 2s 5ms/step - loss: 2.3130 - accuracy: 0.1032\n",
            "Epoch 7/10\n",
            "313/313 [==============================] - 2s 6ms/step - loss: 2.3145 - accuracy: 0.1065\n",
            "Epoch 8/10\n",
            "313/313 [==============================] - 2s 6ms/step - loss: 2.3125 - accuracy: 0.1043\n",
            "Epoch 9/10\n",
            "313/313 [==============================] - 2s 5ms/step - loss: 2.3153 - accuracy: 0.1074\n",
            "Epoch 10/10\n",
            "313/313 [==============================] - 2s 6ms/step - loss: 2.3130 - accuracy: 0.1065\n"
          ],
          "name": "stdout"
        },
        {
          "output_type": "execute_result",
          "data": {
            "text/plain": [
              "<tensorflow.python.keras.callbacks.History at 0x7f55844fe0f0>"
            ]
          },
          "metadata": {
            "tags": []
          },
          "execution_count": 49
        }
      ]
    },
    {
      "cell_type": "markdown",
      "metadata": {
        "id": "mnAFf2ML0yVc",
        "colab_type": "text"
      },
      "source": [
        "Here I am  getting such a high acuraccy because here high possibility is that  model is trying overfit the Data points "
      ]
    },
    {
      "cell_type": "code",
      "metadata": {
        "id": "6uF0qLl1dXyP",
        "colab_type": "code",
        "colab": {}
      },
      "source": [
        "model2 = tf.keras.models.Sequential([\n",
        "                tf.keras.layers.Reshape((28,28,1),input_shape=(28,28))  ,\n",
        "                tf.keras.layers.Conv2D(filters=10,kernel_size=(3,3),data_format=\"channels_last\"),\n",
        "                tf.keras.layers.Flatten(),\n",
        "                tf.keras.layers.Dense(128,activation ='relu') ,\n",
        "                tf.keras.layers.Dropout(0.3),\n",
        "                tf.keras.layers.Dense(128,activation ='relu') ,\n",
        "                tf.keras.layers.Dropout(0.3),\n",
        "                tf.keras.layers.Dense(128,activation ='relu') ,\n",
        "                tf.keras.layers.Dropout(0.3),\n",
        "                tf.keras.layers.Dense(128,activation ='relu') ,\n",
        "                tf.keras.layers.Dropout(0.4),\n",
        "                tf.keras.layers.Dense(128,activation ='relu') ,\n",
        "                tf.keras.layers.Dropout(0.3),\n",
        "                tf.keras.layers.Dense(128,activation ='relu') ,\n",
        "                tf.keras.layers.Dropout(0.3),\n",
        "                tf.keras.layers.Dense(128,activation ='relu') ,\n",
        "                tf.keras.layers.Dropout(0.3),\n",
        "                tf.keras.layers.Dense(128,activation ='relu') ,\n",
        "                tf.keras.layers.Dense(10,activation='softmax')             \n",
        "                            \n",
        "                                    ])"
      ],
      "execution_count": 0,
      "outputs": []
    },
    {
      "cell_type": "code",
      "metadata": {
        "id": "bbccUT5T1Skn",
        "colab_type": "code",
        "colab": {}
      },
      "source": [
        "optimizer=tf.keras.optimizers.Adam(learning_rate= 0.1)\n",
        "model2.compile(optimizer=optimizer,\n",
        "              loss='sparse_categorical_crossentropy',\n",
        "              metrics=['accuracy'])"
      ],
      "execution_count": 0,
      "outputs": []
    },
    {
      "cell_type": "code",
      "metadata": {
        "id": "BkYCVRtSeDbl",
        "colab_type": "code",
        "colab": {
          "base_uri": "https://localhost:8080/",
          "height": 374
        },
        "outputId": "821f06a3-4f7c-403b-a823-08e3e178194a"
      },
      "source": [
        "model2.fit(x_test,Y_test,epochs=10)"
      ],
      "execution_count": 47,
      "outputs": [
        {
          "output_type": "stream",
          "text": [
            "Epoch 1/10\n",
            "313/313 [==============================] - 2s 6ms/step - loss: 2.3141 - accuracy: 0.1006\n",
            "Epoch 2/10\n",
            "313/313 [==============================] - 2s 6ms/step - loss: 11542882.0000 - accuracy: 0.1025\n",
            "Epoch 3/10\n",
            "313/313 [==============================] - 2s 6ms/step - loss: 1196789.0000 - accuracy: 0.1023\n",
            "Epoch 4/10\n",
            "313/313 [==============================] - 2s 6ms/step - loss: 3118493.0000 - accuracy: 0.1010\n",
            "Epoch 5/10\n",
            "313/313 [==============================] - 2s 6ms/step - loss: 3015523.0000 - accuracy: 0.0997\n",
            "Epoch 6/10\n",
            "313/313 [==============================] - 2s 6ms/step - loss: 3258559.7500 - accuracy: 0.1068\n",
            "Epoch 7/10\n",
            "313/313 [==============================] - 2s 6ms/step - loss: 2.3142 - accuracy: 0.0986\n",
            "Epoch 8/10\n",
            "313/313 [==============================] - 2s 6ms/step - loss: 2.3155 - accuracy: 0.1056\n",
            "Epoch 9/10\n",
            "313/313 [==============================] - 2s 6ms/step - loss: 2.3163 - accuracy: 0.1031\n",
            "Epoch 10/10\n",
            "313/313 [==============================] - 2s 6ms/step - loss: 2.3140 - accuracy: 0.0996\n"
          ],
          "name": "stdout"
        },
        {
          "output_type": "execute_result",
          "data": {
            "text/plain": [
              "<tensorflow.python.keras.callbacks.History at 0x7f5584ecae10>"
            ]
          },
          "metadata": {
            "tags": []
          },
          "execution_count": 47
        }
      ]
    },
    {
      "cell_type": "code",
      "metadata": {
        "id": "jrBkZXFgeTZg",
        "colab_type": "code",
        "colab": {}
      },
      "source": [
        ""
      ],
      "execution_count": 0,
      "outputs": []
    }
  ]
}