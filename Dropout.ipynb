{
  "nbformat": 4,
  "nbformat_minor": 0,
  "metadata": {
    "colab": {
      "name": "Dropout.ipynb",
      "provenance": [],
      "authorship_tag": "ABX9TyOZQ99hAJWhbmWNaGPaUxv3",
      "include_colab_link": true
    },
    "kernelspec": {
      "name": "python3",
      "display_name": "Python 3"
    },
    "accelerator": "GPU"
  },
  "cells": [
    {
      "cell_type": "markdown",
      "metadata": {
        "id": "view-in-github",
        "colab_type": "text"
      },
      "source": [
        "<a href=\"https://colab.research.google.com/github/Owaiskhan9654/Dropout-in-Neural-Networks/blob/master/Dropout.ipynb\" target=\"_parent\"><img src=\"https://colab.research.google.com/assets/colab-badge.svg\" alt=\"Open In Colab\"/></a>"
      ]
    },
    {
      "cell_type": "markdown",
      "metadata": {
        "id": "4gn2LNzjWYFU",
        "colab_type": "text"
      },
      "source": [
        "I have been writing papers on Topic Dropout A way to avoid overfitting . I would Like to show that Presentation in My Internship Code Submission "
      ]
    },
    {
      "cell_type": "code",
      "metadata": {
        "id": "xoIkMeG1UWy9",
        "colab_type": "code",
        "colab": {}
      },
      "source": [
        "import tensorflow as tf"
      ],
      "execution_count": 0,
      "outputs": []
    },
    {
      "cell_type": "markdown",
      "metadata": {
        "id": "d-_6_pCVYkGZ",
        "colab_type": "text"
      },
      "source": [
        "Now selecting Data Set - Here In order to Show the benifit of this Dropout we have to use Deep Neural Networks \n",
        "So I am using Simple but will use large No of layers in it I will be using simple MNIST data set"
      ]
    },
    {
      "cell_type": "code",
      "metadata": {
        "id": "qXmDJ3ngYZ-K",
        "colab_type": "code",
        "colab": {}
      },
      "source": [
        "mnist = tf.keras.datasets.mnist\n",
        "(x_train,Y_train),(x_test,Y_test)=mnist.load_data()\n",
        "x_train,x_test = x_train / 255.0,x_test / 255.0"
      ],
      "execution_count": 0,
      "outputs": []
    },
    {
      "cell_type": "markdown",
      "metadata": {
        "id": "XpMe-t7X0QC4",
        "colab_type": "text"
      },
      "source": [
        "First I am going to add No dropout method in our model and find the acuraccy of my model"
      ]
    },
    {
      "cell_type": "code",
      "metadata": {
        "id": "ZDuvWcIjYnpV",
        "colab_type": "code",
        "colab": {}
      },
      "source": [
        "model1 = tf.keras.models.Sequential([\n",
        "                tf.keras.layers.Reshape((28,28,1),input_shape=(28,28))  ,\n",
        "                tf.keras.layers.Conv2D(filters=10,kernel_size=(3,3),data_format=\"channels_last\"),\n",
        "                tf.keras.layers.Flatten(),\n",
        "                tf.keras.layers.Dense(128,activation ='relu') ,\n",
        "                 tf.keras.layers.Dense(128,activation ='relu') ,\n",
        "                tf.keras.layers.Dense(128,activation ='relu') ,\n",
        "                tf.keras.layers.Dense(128,activation ='relu') ,\n",
        "                tf.keras.layers.Dense(128,activation ='relu') ,\n",
        "                tf.keras.layers.Dense(10,activation='softmax')\n",
        "                 ])"
      ],
      "execution_count": 0,
      "outputs": []
    },
    {
      "cell_type": "code",
      "metadata": {
        "id": "i4K6QLil0nDx",
        "colab_type": "code",
        "colab": {}
      },
      "source": [
        "optimizer=tf.keras.optimizers.Adam(learning_rate= 0.01)\n",
        "model1.compile(optimizer=optimizer,\n",
        "              loss='sparse_categorical_crossentropy',\n",
        "              metrics=['accuracy'])"
      ],
      "execution_count": 0,
      "outputs": []
    },
    {
      "cell_type": "code",
      "metadata": {
        "id": "aM-pVYCMcfzS",
        "colab_type": "code",
        "colab": {
          "base_uri": "https://localhost:8080/",
          "height": 374
        },
        "outputId": "e3b50648-c153-49a1-dde2-90f58338f0cf"
      },
      "source": [
        "model1.fit(x_test,Y_test,epochs=10)"
      ],
      "execution_count": 91,
      "outputs": [
        {
          "output_type": "stream",
          "text": [
            "Epoch 1/10\n",
            "313/313 [==============================] - 2s 5ms/step - loss: 0.5679 - accuracy: 0.8590\n",
            "Epoch 2/10\n",
            "313/313 [==============================] - 2s 5ms/step - loss: 0.5277 - accuracy: 0.8752\n",
            "Epoch 3/10\n",
            "313/313 [==============================] - 2s 5ms/step - loss: 0.3276 - accuracy: 0.9242\n",
            "Epoch 4/10\n",
            "313/313 [==============================] - 2s 5ms/step - loss: 0.3441 - accuracy: 0.9215\n",
            "Epoch 5/10\n",
            "313/313 [==============================] - 2s 5ms/step - loss: 0.5429 - accuracy: 0.8800\n",
            "Epoch 6/10\n",
            "313/313 [==============================] - 2s 5ms/step - loss: 0.4966 - accuracy: 0.8887\n",
            "Epoch 7/10\n",
            "313/313 [==============================] - 2s 5ms/step - loss: 0.2526 - accuracy: 0.9435\n",
            "Epoch 8/10\n",
            "313/313 [==============================] - 2s 5ms/step - loss: 0.2050 - accuracy: 0.9544\n",
            "Epoch 9/10\n",
            "313/313 [==============================] - 2s 6ms/step - loss: 1.4120 - accuracy: 0.5628\n",
            "Epoch 10/10\n",
            "313/313 [==============================] - 2s 6ms/step - loss: 2.3035 - accuracy: 0.1051\n"
          ],
          "name": "stdout"
        },
        {
          "output_type": "execute_result",
          "data": {
            "text/plain": [
              "<tensorflow.python.keras.callbacks.History at 0x7f558147b160>"
            ]
          },
          "metadata": {
            "tags": []
          },
          "execution_count": 91
        }
      ]
    },
    {
      "cell_type": "markdown",
      "metadata": {
        "id": "mnAFf2ML0yVc",
        "colab_type": "text"
      },
      "source": [
        "Here we can see that in last epochs accuracy is very very less and it is because in 10th epoch overfitting is hapenning"
      ]
    },
    {
      "cell_type": "code",
      "metadata": {
        "id": "6uF0qLl1dXyP",
        "colab_type": "code",
        "colab": {}
      },
      "source": [
        "model2 = tf.keras.models.Sequential([\n",
        "                tf.keras.layers.Reshape((28,28,1),input_shape=(28,28))  ,\n",
        "                tf.keras.layers.Conv2D(filters=10,kernel_size=(3,3),data_format=\"channels_last\"),\n",
        "                tf.keras.layers.Flatten(),\n",
        "                 tf.keras.layers.Dropout(0.3),\n",
        "                tf.keras.layers.Dense(128,activation ='relu') ,\n",
        "                tf.keras.layers.Dropout(0.3),\n",
        "                tf.keras.layers.Dense(128,activation ='relu') ,\n",
        "                tf.keras.layers.Dropout(0.3),\n",
        "                tf.keras.layers.Dense(128,activation ='relu') ,\n",
        "                tf.keras.layers.Dropout(0.4),\n",
        "                tf.keras.layers.Dense(10,activation='softmax')             \n",
        "                            \n",
        "                                    ])"
      ],
      "execution_count": 0,
      "outputs": []
    },
    {
      "cell_type": "code",
      "metadata": {
        "id": "bbccUT5T1Skn",
        "colab_type": "code",
        "colab": {}
      },
      "source": [
        "optimizer=tf.keras.optimizers.Adam(learning_rate= 0.1)\n",
        "model2.compile(optimizer=optimizer,\n",
        "              loss='sparse_categorical_crossentropy',\n",
        "              metrics=['accuracy'])"
      ],
      "execution_count": 0,
      "outputs": []
    },
    {
      "cell_type": "code",
      "metadata": {
        "id": "BkYCVRtSeDbl",
        "colab_type": "code",
        "colab": {
          "base_uri": "https://localhost:8080/",
          "height": 374
        },
        "outputId": "9b05e1f9-6a9c-40aa-c047-45c83f54f4d1"
      },
      "source": [
        "model2.fit(x_test,Y_test,epochs=10)"
      ],
      "execution_count": 95,
      "outputs": [
        {
          "output_type": "stream",
          "text": [
            "Epoch 1/10\n",
            "313/313 [==============================] - 2s 5ms/step - loss: 11.9830 - accuracy: 0.1037\n",
            "Epoch 2/10\n",
            "313/313 [==============================] - 2s 5ms/step - loss: 54.9995 - accuracy: 0.1041\n",
            "Epoch 3/10\n",
            "313/313 [==============================] - 2s 5ms/step - loss: 624.0201 - accuracy: 0.1053\n",
            "Epoch 4/10\n",
            "313/313 [==============================] - 2s 5ms/step - loss: 2.3136 - accuracy: 0.1028\n",
            "Epoch 5/10\n",
            "313/313 [==============================] - 2s 5ms/step - loss: 2.3167 - accuracy: 0.1045\n",
            "Epoch 6/10\n",
            "313/313 [==============================] - 2s 5ms/step - loss: 2.3155 - accuracy: 0.1034\n",
            "Epoch 7/10\n",
            "313/313 [==============================] - 2s 5ms/step - loss: 2.3196 - accuracy: 0.1065\n",
            "Epoch 8/10\n",
            "313/313 [==============================] - 2s 5ms/step - loss: 2.3169 - accuracy: 0.1053\n",
            "Epoch 9/10\n",
            "313/313 [==============================] - 2s 5ms/step - loss: 2.3144 - accuracy: 0.1035\n",
            "Epoch 10/10\n",
            "313/313 [==============================] - 2s 5ms/step - loss: 2.3169 - accuracy: 0.0998\n"
          ],
          "name": "stdout"
        },
        {
          "output_type": "execute_result",
          "data": {
            "text/plain": [
              "<tensorflow.python.keras.callbacks.History at 0x7f557b83d780>"
            ]
          },
          "metadata": {
            "tags": []
          },
          "execution_count": 95
        }
      ]
    },
    {
      "cell_type": "code",
      "metadata": {
        "id": "jrBkZXFgeTZg",
        "colab_type": "code",
        "colab": {}
      },
      "source": [
        ""
      ],
      "execution_count": 0,
      "outputs": []
    }
  ]
}