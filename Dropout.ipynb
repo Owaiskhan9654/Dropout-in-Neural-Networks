{
  "nbformat": 4,
  "nbformat_minor": 0,
  "metadata": {
    "colab": {
      "name": "Dropout.ipynb",
      "provenance": [],
      "authorship_tag": "ABX9TyNzn70ZJCuOAJl74pAxsW3I",
      "include_colab_link": true
    },
    "kernelspec": {
      "name": "python3",
      "display_name": "Python 3"
    },
    "accelerator": "GPU"
  },
  "cells": [
    {
      "cell_type": "markdown",
      "metadata": {
        "id": "view-in-github",
        "colab_type": "text"
      },
      "source": [
        "<a href=\"https://colab.research.google.com/github/Owaiskhan9654/Dropout-in-Neural-Networks/blob/master/Dropout.ipynb\" target=\"_parent\"><img src=\"https://colab.research.google.com/assets/colab-badge.svg\" alt=\"Open In Colab\"/></a>"
      ]
    },
    {
      "cell_type": "markdown",
      "metadata": {
        "id": "4gn2LNzjWYFU",
        "colab_type": "text"
      },
      "source": [
        "I have been writing papers on Topic Dropout A way to avoid overfitting . I would Like to show that Presentation in My Internship Code Submission "
      ]
    },
    {
      "cell_type": "code",
      "metadata": {
        "id": "xoIkMeG1UWy9",
        "colab_type": "code",
        "colab": {}
      },
      "source": [
        "import tensorflow as tf"
      ],
      "execution_count": 0,
      "outputs": []
    },
    {
      "cell_type": "markdown",
      "metadata": {
        "id": "d-_6_pCVYkGZ",
        "colab_type": "text"
      },
      "source": [
        "Now selecting Data Set - Here In order to Show the benifit of Dropping out the nodes I will use Deep Neural Networks \n",
        "So I am using Simple but will use large No of layers in it and I will be using simple MNIST data set"
      ]
    },
    {
      "cell_type": "code",
      "metadata": {
        "id": "qXmDJ3ngYZ-K",
        "colab_type": "code",
        "colab": {}
      },
      "source": [
        "mnist = tf.keras.datasets.mnist\n",
        "(x_train,Y_train),(x_test,Y_test)=mnist.load_data()\n",
        "x_train,x_test = x_train / 255.0,x_test / 255.0"
      ],
      "execution_count": 0,
      "outputs": []
    },
    {
      "cell_type": "markdown",
      "metadata": {
        "id": "XpMe-t7X0QC4",
        "colab_type": "text"
      },
      "source": [
        "First I am going to add No dropout method in our model and find the acuraccy of my model"
      ]
    },
    {
      "cell_type": "code",
      "metadata": {
        "id": "ZDuvWcIjYnpV",
        "colab_type": "code",
        "colab": {}
      },
      "source": [
        "model1 = tf.keras.models.Sequential([\n",
        "                tf.keras.layers.Reshape((28,28,1),input_shape=(28,28))  ,\n",
        "                tf.keras.layers.Conv2D(filters=10,kernel_size=(3,3),data_format=\"channels_last\"),\n",
        "                tf.keras.layers.Flatten(),\n",
        "                tf.keras.layers.Dense(128,activation ='relu') ,\n",
        "                 tf.keras.layers.Dense(128,activation ='relu') ,\n",
        "                tf.keras.layers.Dense(128,activation ='relu') ,\n",
        "                tf.keras.layers.Dense(128,activation ='relu') ,\n",
        "                tf.keras.layers.Dense(128,activation ='relu') ,\n",
        "                tf.keras.layers.Dense(10,activation='softmax')\n",
        "                 ])"
      ],
      "execution_count": 0,
      "outputs": []
    },
    {
      "cell_type": "code",
      "metadata": {
        "id": "i4K6QLil0nDx",
        "colab_type": "code",
        "colab": {}
      },
      "source": [
        "optimizer=tf.keras.optimizers.Adam(learning_rate= 0.01)\n",
        "model1.compile(optimizer=optimizer,\n",
        "              loss='sparse_categorical_crossentropy',\n",
        "              metrics=['accuracy'])"
      ],
      "execution_count": 0,
      "outputs": []
    },
    {
      "cell_type": "code",
      "metadata": {
        "id": "aM-pVYCMcfzS",
        "colab_type": "code",
        "colab": {
          "base_uri": "https://localhost:8080/",
          "height": 357
        },
        "outputId": "17570249-ee9c-4d21-a55f-5c588c1e87f1"
      },
      "source": [
        "train_history1=model1.fit(x_test,Y_test,epochs=10)"
      ],
      "execution_count": 33,
      "outputs": [
        {
          "output_type": "stream",
          "text": [
            "Epoch 1/10\n",
            "313/313 [==============================] - 2s 5ms/step - loss: 0.7303 - accuracy: 0.7884\n",
            "Epoch 2/10\n",
            "313/313 [==============================] - 2s 5ms/step - loss: 0.4507 - accuracy: 0.8949\n",
            "Epoch 3/10\n",
            "313/313 [==============================] - 2s 5ms/step - loss: 0.4128 - accuracy: 0.9005\n",
            "Epoch 4/10\n",
            "313/313 [==============================] - 2s 5ms/step - loss: 0.7187 - accuracy: 0.8178\n",
            "Epoch 5/10\n",
            "313/313 [==============================] - 2s 5ms/step - loss: 2.3075 - accuracy: 0.1131\n",
            "Epoch 6/10\n",
            "313/313 [==============================] - 2s 5ms/step - loss: 2.3020 - accuracy: 0.1106\n",
            "Epoch 7/10\n",
            "313/313 [==============================] - 2s 5ms/step - loss: 2.3024 - accuracy: 0.1097\n",
            "Epoch 8/10\n",
            "313/313 [==============================] - 2s 5ms/step - loss: 2.3021 - accuracy: 0.1098\n",
            "Epoch 9/10\n",
            "313/313 [==============================] - 2s 5ms/step - loss: 2.3017 - accuracy: 0.1083\n",
            "Epoch 10/10\n",
            "313/313 [==============================] - 2s 5ms/step - loss: 2.3022 - accuracy: 0.1088\n"
          ],
          "name": "stdout"
        }
      ]
    },
    {
      "cell_type": "markdown",
      "metadata": {
        "id": "mnAFf2ML0yVc",
        "colab_type": "text"
      },
      "source": [
        "Here we can see that in last epochs accuracy is very very less and it is because in 10th epoch overfitting is hapenning"
      ]
    },
    {
      "cell_type": "code",
      "metadata": {
        "id": "6uF0qLl1dXyP",
        "colab_type": "code",
        "colab": {}
      },
      "source": [
        "model2 = tf.keras.models.Sequential([\n",
        "                tf.keras.layers.Reshape((28,28,1),input_shape=(28,28))  ,\n",
        "                tf.keras.layers.Conv2D(filters=10,kernel_size=(3,3),data_format=\"channels_last\"),\n",
        "                tf.keras.layers.Flatten(),\n",
        "                tf.keras.layers.Dropout(0.1),\n",
        "                tf.keras.layers.Dense(128,activation ='relu') ,\n",
        "                tf.keras.layers.Dropout(0.1),\n",
        "                tf.keras.layers.Dense(128,activation ='relu') ,\n",
        "                tf.keras.layers.Dropout(0.1),\n",
        "                tf.keras.layers.Dense(128,activation ='relu') ,\n",
        "                tf.keras.layers.Dropout(0.1),\n",
        "                tf.keras.layers.Dense(10,activation='softmax')             \n",
        "                            \n",
        "                                    ])"
      ],
      "execution_count": 0,
      "outputs": []
    },
    {
      "cell_type": "code",
      "metadata": {
        "id": "bbccUT5T1Skn",
        "colab_type": "code",
        "colab": {}
      },
      "source": [
        "optimizer=tf.keras.optimizers.Adam(learning_rate= 0.01)\n",
        "model2.compile(optimizer=optimizer,\n",
        "              loss='sparse_categorical_crossentropy',\n",
        "              metrics=['accuracy'])"
      ],
      "execution_count": 0,
      "outputs": []
    },
    {
      "cell_type": "code",
      "metadata": {
        "id": "BkYCVRtSeDbl",
        "colab_type": "code",
        "colab": {
          "base_uri": "https://localhost:8080/",
          "height": 357
        },
        "outputId": "0105394f-09dd-4e72-da57-fd8ce918bc19"
      },
      "source": [
        "train_history2=model2.fit(x_test,Y_test,epochs=10)"
      ],
      "execution_count": 36,
      "outputs": [
        {
          "output_type": "stream",
          "text": [
            "Epoch 1/10\n",
            "313/313 [==============================] - 2s 5ms/step - loss: 0.6764 - accuracy: 0.8069\n",
            "Epoch 2/10\n",
            "313/313 [==============================] - 2s 5ms/step - loss: 0.5390 - accuracy: 0.8628\n",
            "Epoch 3/10\n",
            "313/313 [==============================] - 2s 5ms/step - loss: 0.4639 - accuracy: 0.8798\n",
            "Epoch 4/10\n",
            "313/313 [==============================] - 2s 5ms/step - loss: 0.4662 - accuracy: 0.8863\n",
            "Epoch 5/10\n",
            "313/313 [==============================] - 2s 5ms/step - loss: 0.6405 - accuracy: 0.8558\n",
            "Epoch 6/10\n",
            "313/313 [==============================] - 2s 5ms/step - loss: 0.7176 - accuracy: 0.8271\n",
            "Epoch 7/10\n",
            "313/313 [==============================] - 2s 5ms/step - loss: 0.4668 - accuracy: 0.8812\n",
            "Epoch 8/10\n",
            "313/313 [==============================] - 2s 5ms/step - loss: 0.5448 - accuracy: 0.8757\n",
            "Epoch 9/10\n",
            "313/313 [==============================] - 2s 5ms/step - loss: 0.7211 - accuracy: 0.8253\n",
            "Epoch 10/10\n",
            "313/313 [==============================] - 2s 6ms/step - loss: 0.9243 - accuracy: 0.7714\n"
          ],
          "name": "stdout"
        }
      ]
    },
    {
      "cell_type": "markdown",
      "metadata": {
        "id": "znI376aP9nJ2",
        "colab_type": "text"
      },
      "source": [
        "Now Here we can see that by applying simple Dropping some of the nodes in our neural network I was able to remove the effect of overfitting and build a sinple Deep Neural Network of a convolutional Model. Here what we are getting is a genralized model which will be giving better Accuracy"
      ]
    },
    {
      "cell_type": "code",
      "metadata": {
        "id": "jrBkZXFgeTZg",
        "colab_type": "code",
        "colab": {}
      },
      "source": [
        ""
      ],
      "execution_count": 0,
      "outputs": []
    }
  ]
}